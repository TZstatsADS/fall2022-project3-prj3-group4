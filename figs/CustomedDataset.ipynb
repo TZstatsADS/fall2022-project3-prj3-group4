{
 "cells": [
  {
   "cell_type": "code",
   "execution_count": 1,
   "id": "05a2066e",
   "metadata": {},
   "outputs": [],
   "source": [
    "import numpy as np\n",
    "import pandas as pd\n",
    "import cv2\n",
    "import matplotlib.pyplot as plt\n",
    "from sklearn.metrics import classification_report\n",
    "from sklearn.linear_model import LogisticRegression\n",
    "import torch\n",
    "from torch.utils.data import Dataset\n",
    "import torchvision\n",
    "import torchvision.transforms as transforms"
   ]
  },
  {
   "cell_type": "markdown",
   "id": "ed78bed6",
   "metadata": {},
   "source": [
    "The CustomedDataset converts all the images and labels into a dataset and is suit for PyTorch (3\\*32\\*32)"
   ]
  },
  {
   "cell_type": "code",
   "execution_count": null,
   "id": "516cb01b",
   "metadata": {},
   "outputs": [],
   "source": [
    "class CustomedDataset(Dataset):\n",
    "\n",
    "    def __init__(self, root, image_dir, csv_file, transform=None):\n",
    "        self.root = root\n",
    "        self.image_dir = image_dir\n",
    "        self.image_files = np.sort(os.listdir(image_dir))\n",
    "        self.data = pd.read_csv(csv_file,header=None).iloc[:,0]\n",
    "        self.transform = transform\n",
    "\n",
    "    def __len__(self):\n",
    "        return len(self.data)\n",
    "\n",
    "    def __getitem__(self, index):\n",
    "        image_name = os.path.join(self.image_dir, self.image_files[index])  \n",
    "        image = PIL.Image.open(image_name)\n",
    "        label = self.data[index]\n",
    "        if self.transform:\n",
    "            image = self.transform(image)\n",
    "        return (image, label)\n",
    "        "
   ]
  },
  {
   "cell_type": "markdown",
   "id": "8d33c4ec",
   "metadata": {},
   "source": [
    "The CustomedDataset takes the first 10000 images and labels into a dataset and is suit for PyTorch (3\\*32\\*32)"
   ]
  },
  {
   "cell_type": "code",
   "execution_count": 2,
   "id": "6362f52e",
   "metadata": {},
   "outputs": [],
   "source": [
    "class CustomedDatasetII(Dataset):\n",
    "\n",
    "    def __init__(self, root, image_dir, csv_file, transform=None):\n",
    "        self.root = root\n",
    "        self.image_dir = image_dir\n",
    "        self.image_files = np.sort(os.listdir(image_dir))[:10000]\n",
    "        self.data = pd.read_csv(csv_file,header=None).iloc[:,0]\n",
    "        self.transform = transform\n",
    "\n",
    "    def __len__(self):\n",
    "        return len(self.data)\n",
    "\n",
    "    def __getitem__(self, index):\n",
    "        image_name = os.path.join(self.image_dir, self.image_files[index])  \n",
    "        image = PIL.Image.open(image_name)\n",
    "        label = self.data[index]\n",
    "        if self.transform:\n",
    "            image = self.transform(image)\n",
    "        return (image, label)\n"
   ]
  },
  {
   "cell_type": "markdown",
   "id": "a7454a2a",
   "metadata": {},
   "source": [
    "The getTransformedDataset reads all the images started from 10000th place and transofrmed them into tensor (3\\*32\\*32)"
   ]
  },
  {
   "cell_type": "code",
   "execution_count": null,
   "id": "d73f2b6f",
   "metadata": {},
   "outputs": [],
   "source": [
    "class getTransformedDataset(Dataset):\n",
    "\n",
    "    def __init__(self, root, image_dir, transform=None):\n",
    "        self.root = root\n",
    "        self.image_dir = image_dir\n",
    "        self.image_files = np.sort(os.listdir(image_dir))[10000:]\n",
    "        self.transform = transform\n",
    "\n",
    "    def __len__(self):\n",
    "        return len(self.data)\n",
    "\n",
    "    def __getitem__(self, index):\n",
    "        image_name = os.path.join(self.image_dir, self.image_files[index])  \n",
    "        image = PIL.Image.open(image_name)\n",
    "        if self.transform:\n",
    "            image = self.transform(image)\n",
    "        return image"
   ]
  }
 ],
 "metadata": {
  "kernelspec": {
   "display_name": "Python 3 (ipykernel)",
   "language": "python",
   "name": "python3"
  },
  "language_info": {
   "codemirror_mode": {
    "name": "ipython",
    "version": 3
   },
   "file_extension": ".py",
   "mimetype": "text/x-python",
   "name": "python",
   "nbconvert_exporter": "python",
   "pygments_lexer": "ipython3",
   "version": "3.8.13"
  }
 },
 "nbformat": 4,
 "nbformat_minor": 5
}
